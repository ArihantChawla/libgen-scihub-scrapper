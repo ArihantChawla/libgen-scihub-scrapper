{
 "cells": [
  {
   "cell_type": "code",
   "execution_count": null,
   "id": "stainless-distance",
   "metadata": {},
   "outputs": [],
   "source": [
    "from bs4 import BeautifulSoup as bs\n",
    "import lxml\n",
    "import requests \n",
    "import os\n",
    "import wget"
   ]
  },
  {
   "cell_type": "code",
   "execution_count": null,
   "id": "internal-panic",
   "metadata": {},
   "outputs": [],
   "source": [
    "keyword = input(\"Enter a keyword to scrape \")"
   ]
  },
  {
   "cell_type": "code",
   "execution_count": null,
   "id": "lesser-belle",
   "metadata": {},
   "outputs": [],
   "source": [
    "temp = keyword.split(\" \")\n",
    "keyword = \"\"\n",
    "print(temp)\n",
    "for x in temp:\n",
    "    keyword += (str(x))\n",
    "    keyword += (\"%\")\n",
    "print(keyword)  \n",
    "keyword = keyword[:-1]"
   ]
  },
  {
   "cell_type": "code",
   "execution_count": null,
   "id": "confirmed-native",
   "metadata": {},
   "outputs": [],
   "source": [
    "keyword"
   ]
  },
  {
   "cell_type": "code",
   "execution_count": null,
   "id": "optional-rocket",
   "metadata": {},
   "outputs": [],
   "source": [
    "searchUrl = \"http://libgen.rs/scimag/?q=;\" + keyword\n",
    "headers = { 'User-Agent': 'Mozilla/5.0 (Windows NT 10.0; Win64; x64) AppleWebKit/537.36 (KHTML, like Gecko) Chrome/91.0.4472.124 Safari/537.36'}\n",
    "page = requests.get(searchUrl, headers=headers)\n",
    "soup = soup = bs(page.text,'lxml')"
   ]
  },
  {
   "cell_type": "code",
   "execution_count": null,
   "id": "different-atlanta",
   "metadata": {},
   "outputs": [],
   "source": [
    "links = soup.select('td>ul>li>a')"
   ]
  },
  {
   "cell_type": "code",
   "execution_count": null,
   "id": "promotional-background",
   "metadata": {},
   "outputs": [],
   "source": [
    "A = []\n",
    "for l in links:\n",
    "    if 'Sci-Hub' in l:\n",
    "        l = str(l)\n",
    "        l = l.split('\"')\n",
    "        l = l[1]\n",
    "        A.append(l)"
   ]
  },
  {
   "cell_type": "code",
   "execution_count": null,
   "id": "civil-montana",
   "metadata": {},
   "outputs": [],
   "source": [
    "#a = A[0]\n",
    "for a in A:\n",
    "    page = requests.get(a, headers=headers)\n",
    "    soup = bs(page.text,'lxml')\n",
    "    #print(soup.prettify())\n",
    "    lk = str(soup.select('ul>li>a')[0]).split(\"'\")[1]\n",
    "    print(lk)\n",
    "    wget.download(lk)"
   ]
  },
  {
   "cell_type": "code",
   "execution_count": null,
   "id": "charitable-opposition",
   "metadata": {},
   "outputs": [],
   "source": []
  }
 ],
 "metadata": {
  "kernelspec": {
   "display_name": "Python 3",
   "language": "python",
   "name": "python3"
  },
  "language_info": {
   "codemirror_mode": {
    "name": "ipython",
    "version": 3
   },
   "file_extension": ".py",
   "mimetype": "text/x-python",
   "name": "python",
   "nbconvert_exporter": "python",
   "pygments_lexer": "ipython3",
   "version": "3.9.1+"
  }
 },
 "nbformat": 4,
 "nbformat_minor": 5
}
